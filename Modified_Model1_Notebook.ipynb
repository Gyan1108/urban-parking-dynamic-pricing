{
 "cells": [
  {
   "cell_type": "code",
   "execution_count": null,
   "id": "c4c94699",
   "metadata": {},
   "outputs": [],
   "source": [
    "# Install necessary packages in Google Colab\n",
    "!pip install pathway bokeh --quiet\n"
   ]
  },
  {
   "cell_type": "code",
   "execution_count": null,
   "id": "6abeac4c",
   "metadata": {},
   "outputs": [],
   "source": [
    "import pandas as pd\n",
    "import pathway as pw\n",
    "import datetime\n",
    "import pathway.debug as pw_debug\n"
   ]
  },
  {
   "cell_type": "code",
   "execution_count": null,
   "id": "d29c9352",
   "metadata": {},
   "outputs": [],
   "source": [
    "# Model 1: Baseline Linear Pricing\n",
    "\n",
    "class ParkingSchema(pw.Schema):\n",
    "    Timestamp: str\n",
    "    Occupancy: int\n",
    "    Capacity: int\n",
    "\n",
    "data = pw.demo.replay_csv(\"parking_stream_model2.csv\", schema=ParkingSchema, input_rate=1000)\n",
    "\n",
    "fmt = \"%Y-%m-%d %H:%M:%S\"\n",
    "data_with_time = data.with_columns(\n",
    "    t = data.Timestamp.dt.strptime(fmt),\n",
    "    day = data.Timestamp.dt.strptime(fmt).dt.strftime(\"%Y-%m-%dT00:00:00\")\n",
    ")\n",
    "\n",
    "delta_window = (\n",
    "    data_with_time.windowby(\n",
    "        pw.this.t,\n",
    "        instance=pw.this.day,\n",
    "        window=pw.temporal.tumbling(datetime.timedelta(days=1)),\n",
    "        behavior=pw.temporal.exactly_once_behavior()\n",
    "    )\n",
    "    .reduce(\n",
    "        t=pw.this._pw_window_end,\n",
    "        occ_max=pw.reducers.max(pw.this.Occupancy),\n",
    "        cap=pw.reducers.max(pw.this.Capacity),\n",
    "    )\n",
    "    .with_columns(\n",
    "        price=10 + 5 * (pw.this.occ_max / pw.this.cap)\n",
    "    )\n",
    ")\n",
    "\n",
    "pw_debug.print_table(delta_window)\n",
    "pw.run()\n"
   ]
  }
 ],
 "metadata": {},
 "nbformat": 4,
 "nbformat_minor": 5
}
